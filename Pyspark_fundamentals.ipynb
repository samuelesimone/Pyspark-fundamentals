{
  "nbformat": 4,
  "nbformat_minor": 0,
  "metadata": {
    "colab": {
      "provenance": []
    },
    "kernelspec": {
      "name": "python3",
      "display_name": "Python 3"
    },
    "language_info": {
      "name": "python"
    }
  },
  "cells": [
    {
      "cell_type": "code",
      "execution_count": 1,
      "metadata": {
        "colab": {
          "base_uri": "https://localhost:8080/"
        },
        "id": "UEz-XuVhN_BK",
        "outputId": "391513ef-3b73-43a0-db71-140a5415442a"
      },
      "outputs": [
        {
          "output_type": "stream",
          "name": "stdout",
          "text": [
            "\u001b[2K     \u001b[90m━━━━━━━━━━━━━━━━━━━━━━━━━━━━━━━━━━━━━━━\u001b[0m \u001b[32m281.4/281.4 MB\u001b[0m \u001b[31m4.8 MB/s\u001b[0m eta \u001b[36m0:00:00\u001b[0m\n",
            "\u001b[?25h  Preparing metadata (setup.py) ... \u001b[?25l\u001b[?25hdone\n",
            "\u001b[2K     \u001b[90m━━━━━━━━━━━━━━━━━━━━━━━━━━━━━━━━━━━━━━\u001b[0m \u001b[32m199.7/199.7 KB\u001b[0m \u001b[31m18.5 MB/s\u001b[0m eta \u001b[36m0:00:00\u001b[0m\n",
            "\u001b[?25h  Building wheel for pyspark (setup.py) ... \u001b[?25l\u001b[?25hdone\n"
          ]
        }
      ],
      "source": [
        "# Installo pyspark e creo uno SparkContext\n",
        "!pip install pyspark -q\n",
        "import pyspark\n",
        "sc = pyspark.SparkContext(\"local[*]\").getOrCreate()"
      ]
    },
    {
      "cell_type": "code",
      "source": [
        "my_list = [2,5,3,1,6,7]"
      ],
      "metadata": {
        "id": "zD5xeSmiOz-J"
      },
      "execution_count": 2,
      "outputs": []
    },
    {
      "cell_type": "code",
      "source": [
        "# utilizzo del map e della funzione lambda\n",
        "squared_list = list(map(lambda x : x**2, my_list))\n",
        "print(squared_list)"
      ],
      "metadata": {
        "colab": {
          "base_uri": "https://localhost:8080/"
        },
        "id": "qNuJB53jO4Em",
        "outputId": "56648e4f-771f-4627-ce98-deaf08389310"
      },
      "execution_count": 5,
      "outputs": [
        {
          "output_type": "stream",
          "name": "stdout",
          "text": [
            "[4, 25, 9, 1, 36, 49]\n"
          ]
        }
      ]
    },
    {
      "cell_type": "code",
      "source": [
        "# utilizzo della funzione filter\n",
        "filtered_list = list(filter(lambda x : (x <= 10), squared_list))\n",
        "print(filtered_list)"
      ],
      "metadata": {
        "colab": {
          "base_uri": "https://localhost:8080/"
        },
        "id": "y0h0JyJJP-CY",
        "outputId": "7a6eebdf-b7de-4f1e-d8a8-44a6fe48854a"
      },
      "execution_count": 7,
      "outputs": [
        {
          "output_type": "stream",
          "name": "stdout",
          "text": [
            "[4, 9, 1]\n"
          ]
        }
      ]
    },
    {
      "cell_type": "code",
      "source": [
        "# Creazione di un RDD\n",
        "rdd = sc.parallelize(my_list)\n",
        "print(type(rdd))"
      ],
      "metadata": {
        "colab": {
          "base_uri": "https://localhost:8080/"
        },
        "id": "MRRGbGWcRT9P",
        "outputId": "e432d423-768b-4980-aac1-7ded223e6c23"
      },
      "execution_count": 8,
      "outputs": [
        {
          "output_type": "stream",
          "name": "stdout",
          "text": [
            "<class 'pyspark.rdd.RDD'>\n"
          ]
        }
      ]
    },
    {
      "cell_type": "code",
      "source": [
        "# Utilizzo di map e collect per rdd\n",
        "double_numb_rdd = rdd.map(lambda x : x**2)"
      ],
      "metadata": {
        "id": "ZqI0GgpHRxJk"
      },
      "execution_count": 9,
      "outputs": []
    },
    {
      "cell_type": "code",
      "source": [
        "# Restituisce tutti gli elementi\n",
        "number_doubled = double_numb_rdd.collect()"
      ],
      "metadata": {
        "id": "2AVsRhlsSgIS"
      },
      "execution_count": 10,
      "outputs": []
    },
    {
      "cell_type": "code",
      "source": [
        "# Stampo tutti gli elementi\n",
        "for item in number_doubled:\n",
        "  print(item)"
      ],
      "metadata": {
        "colab": {
          "base_uri": "https://localhost:8080/"
        },
        "id": "RVy9MImhSm30",
        "outputId": "fcf95dee-4eeb-4d9b-9af4-2b0dd8acc98e"
      },
      "execution_count": 11,
      "outputs": [
        {
          "output_type": "stream",
          "name": "stdout",
          "text": [
            "4\n",
            "25\n",
            "9\n",
            "1\n",
            "36\n",
            "49\n"
          ]
        }
      ]
    },
    {
      "cell_type": "code",
      "source": [
        "# Filtro tutti gli elementi pari nel double_rdd\n",
        "filtered_double_rdd = double_numb_rdd.filter(lambda x : x % 2 == 0)\n",
        "# Stampo rdd ottenuto\n",
        "print(filtered_double_rdd.collect())"
      ],
      "metadata": {
        "colab": {
          "base_uri": "https://localhost:8080/"
        },
        "id": "tutcEUe9SzWU",
        "outputId": "05dfe670-e462-4076-f5e8-db5750027649"
      },
      "execution_count": 14,
      "outputs": [
        {
          "output_type": "stream",
          "name": "stdout",
          "text": [
            "[4, 36]\n"
          ]
        }
      ]
    },
    {
      "cell_type": "code",
      "source": [
        "# Quanti elementi sono presenti nel filtered_double_rdd?\n",
        "print(filtered_double_rdd.count())"
      ],
      "metadata": {
        "colab": {
          "base_uri": "https://localhost:8080/"
        },
        "id": "TQwJ5U_rTV4D",
        "outputId": "a8f8d5e6-d248-4971-ad12-3a77c172cf8f"
      },
      "execution_count": 15,
      "outputs": [
        {
          "output_type": "stream",
          "name": "stdout",
          "text": [
            "2\n"
          ]
        }
      ]
    },
    {
      "cell_type": "code",
      "source": [
        "# Utilizzo di reduceByKey \n",
        "rdd_tuple = sc.parallelize([(1,2),(1,4),(2,3),(2,8),(3,9),(4,1),(5,2)])\n",
        "# Applico il reduceByKey\n",
        "rdd_tuple_reduced = rdd_tuple.reduceByKey(lambda x,y : x +y)\n",
        "# Stampo rdd_tuple_reduced\n",
        "print(rdd_tuple_reduced.collect())"
      ],
      "metadata": {
        "colab": {
          "base_uri": "https://localhost:8080/"
        },
        "id": "nS2VcpxaTmY0",
        "outputId": "d0a68744-d959-4479-ed85-f8802119f612"
      },
      "execution_count": 17,
      "outputs": [
        {
          "output_type": "stream",
          "name": "stdout",
          "text": [
            "[(2, 11), (4, 1), (1, 6), (3, 9), (5, 2)]\n"
          ]
        }
      ]
    },
    {
      "cell_type": "code",
      "source": [
        "# \u0005è possibile ordinare gli elementi\n",
        "sortedRdd = rdd_tuple_reduced.sortByKey(ascending=True)\n",
        "print(sortedRdd.collect())"
      ],
      "metadata": {
        "colab": {
          "base_uri": "https://localhost:8080/"
        },
        "id": "qF-DQL4HUZ40",
        "outputId": "1a7b426c-66f7-42df-e960-e591ab68603d"
      },
      "execution_count": 18,
      "outputs": [
        {
          "output_type": "stream",
          "name": "stdout",
          "text": [
            "[(1, 6), (2, 11), (3, 9), (4, 1), (5, 2)]\n"
          ]
        }
      ]
    },
    {
      "cell_type": "code",
      "source": [
        "# Contare per chiavi\n",
        "total = rdd_tuple.countByKey()\n",
        "\n",
        "# Che tipo è total?\n",
        "print(\"total è di tipo \", type(total))\n",
        "\n",
        "# Itero su total e stampo la chiave, valore\n",
        "for k, v in total.items(): \n",
        "  print(\"key\", k, \"has\", v, \"counts\")"
      ],
      "metadata": {
        "colab": {
          "base_uri": "https://localhost:8080/"
        },
        "id": "5mL_VVl6Uqsq",
        "outputId": "19d96e7e-90a1-4a9d-dc69-12973366c37c"
      },
      "execution_count": 20,
      "outputs": [
        {
          "output_type": "stream",
          "name": "stdout",
          "text": [
            "total è di tipo  <class 'collections.defaultdict'>\n",
            "key 1 has 2 counts\n",
            "key 2 has 2 counts\n",
            "key 3 has 1 counts\n",
            "key 4 has 1 counts\n",
            "key 5 has 1 counts\n"
          ]
        }
      ]
    }
  ]
}